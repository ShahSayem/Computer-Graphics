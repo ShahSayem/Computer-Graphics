{
 "cells": [
  {
   "cell_type": "code",
   "execution_count": 1,
   "id": "6c845013",
   "metadata": {},
   "outputs": [
    {
     "name": "stdout",
     "output_type": "stream",
     "text": [
      "Name is: Sayem\n",
      "<class 'str'>\n",
      "<class 'int'>\n"
     ]
    }
   ],
   "source": [
    "#input in python\n",
    "a= input(\"Enter name\")\n",
    "b= 46\n",
    "\n",
    "print('Name is: ' + a)\n",
    "print(type(a))\n",
    "print(type(b))\n"
   ]
  },
  {
   "cell_type": "code",
   "execution_count": 6,
   "id": "83a03276",
   "metadata": {},
   "outputs": [
    {
     "name": "stdout",
     "output_type": "stream",
     "text": [
      "1\n",
      "3\n",
      "5\n",
      "8\n",
      "10\n",
      "12\n"
     ]
    }
   ],
   "source": [
    "#Loop\n",
    "arr=[1,3,5,8,10,12]\n",
    "for i in arr:\n",
    "    print(i)"
   ]
  },
  {
   "cell_type": "code",
   "execution_count": 7,
   "id": "e3a4b3e4",
   "metadata": {},
   "outputs": [
    {
     "name": "stdout",
     "output_type": "stream",
     "text": [
      "[1, 3, 5, 8, 10]\n",
      "[1, 5, 10]\n"
     ]
    }
   ],
   "source": [
    "print(arr[0:5])\n",
    "print(arr[0:5:2])"
   ]
  },
  {
   "cell_type": "code",
   "execution_count": null,
   "id": "973126e5",
   "metadata": {},
   "outputs": [],
   "source": [
    "# Find PPI\n",
    "import math\n",
    "\n",
    "width = float(input(\"Enter the width in pixels: \"))\n",
    "height = float(input(\"Enter the height in pixels: \"))\n",
    "diagonal_size = float(input(\"Enter the diagonal size in inches: \"))"
   ]
  },
  {
   "cell_type": "code",
   "execution_count": 6,
   "id": "9c7fd120",
   "metadata": {},
   "outputs": [
    {
     "name": "stdout",
     "output_type": "stream",
     "text": [
      "The Pixels Per Inch (PPI) is: 91.79\n"
     ]
    }
   ],
   "source": [
    "diagonal_resolution = math.sqrt(width**2 + height**2)\n",
    "    \n",
    "    # Calculate the PPI\n",
    "ppi = diagonal_resolution / diagonal_size\n",
    "\n",
    "print(f\"The Pixels Per Inch (PPI) is: {ppi:.2f}\")\n"
   ]
  },
  {
   "cell_type": "code",
   "execution_count": 3,
   "id": "eaac28ef",
   "metadata": {},
   "outputs": [
    {
     "name": "stdout",
     "output_type": "stream",
     "text": [
      "27\n"
     ]
    }
   ],
   "source": [
    "x = 3\n",
    "print(x**x) #Cube"
   ]
  },
  {
   "cell_type": "code",
   "execution_count": 4,
   "id": "013f5e81",
   "metadata": {},
   "outputs": [
    {
     "name": "stdout",
     "output_type": "stream",
     "text": [
      "0\n",
      "1\n",
      "2\n",
      "3\n",
      "4\n"
     ]
    }
   ],
   "source": [
    "for i in range(5):\n",
    "    print(i)"
   ]
  }
 ],
 "metadata": {
  "kernelspec": {
   "display_name": "Python 3",
   "language": "python",
   "name": "python3"
  },
  "language_info": {
   "codemirror_mode": {
    "name": "ipython",
    "version": 3
   },
   "file_extension": ".py",
   "mimetype": "text/x-python",
   "name": "python",
   "nbconvert_exporter": "python",
   "pygments_lexer": "ipython3",
   "version": "3.12.1"
  }
 },
 "nbformat": 4,
 "nbformat_minor": 5
}
